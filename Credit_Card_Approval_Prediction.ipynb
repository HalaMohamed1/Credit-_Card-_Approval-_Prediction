{
  "cells": [
    {
      "cell_type": "markdown",
      "source": [
        "# Data Manipulation Libraries"
      ],
      "metadata": {
        "id": "HKHb0AjPh59C"
      }
    },
    {
      "cell_type": "code",
      "source": [
        "import pandas as pd\n",
        "import numpy as np"
      ],
      "metadata": {
        "id": "uClpBsBEh6_G"
      },
      "execution_count": 1,
      "outputs": []
    },
    {
      "cell_type": "markdown",
      "source": [
        "# Model Selection and Evaluation"
      ],
      "metadata": {
        "id": "nE70pvxziJ2k"
      }
    },
    {
      "cell_type": "code",
      "source": [
        "from sklearn.model_selection import train_test_split, GridSearchCV\n",
        "from sklearn.metrics import classification_report, confusion_matrix, accuracy_score"
      ],
      "metadata": {
        "id": "1Y913GCPiJH2"
      },
      "execution_count": 2,
      "outputs": []
    },
    {
      "cell_type": "markdown",
      "source": [
        "# Data Preprocessing"
      ],
      "metadata": {
        "id": "_X2B_70wiQSY"
      }
    },
    {
      "cell_type": "code",
      "source": [
        "from sklearn.preprocessing import LabelEncoder, StandardScaler"
      ],
      "metadata": {
        "id": "Si0JbuLQiTKZ"
      },
      "execution_count": 3,
      "outputs": []
    },
    {
      "cell_type": "markdown",
      "source": [
        "# Machine Learning Models"
      ],
      "metadata": {
        "id": "qNxD8o-KiU0l"
      }
    },
    {
      "cell_type": "code",
      "source": [
        "from sklearn.ensemble import RandomForestClassifier\n",
        "from sklearn.svm import SVC\n",
        "from sklearn.linear_model import LogisticRegression"
      ],
      "metadata": {
        "id": "e-eYM1QpiYxf"
      },
      "execution_count": 4,
      "outputs": []
    },
    {
      "cell_type": "markdown",
      "source": [
        "# Visualization Tools"
      ],
      "metadata": {
        "id": "6l6YPYDpia8P"
      }
    },
    {
      "cell_type": "code",
      "source": [
        "import matplotlib.pyplot as plt\n",
        "import seaborn as sns\n",
        "import matplotlib.gridspec as gridspec"
      ],
      "metadata": {
        "id": "Aw8Rc5g0ieKN"
      },
      "execution_count": 5,
      "outputs": []
    },
    {
      "cell_type": "markdown",
      "source": [
        "# Handling Imbalanced Data"
      ],
      "metadata": {
        "id": "wPUP4QHsigTN"
      }
    },
    {
      "cell_type": "code",
      "source": [
        "from imblearn.over_sampling import SMOTE\n",
        "%pip install imbalanced-learn"
      ],
      "metadata": {
        "colab": {
          "base_uri": "https://localhost:8080/"
        },
        "id": "9u__KT9PijAC",
        "outputId": "287a5179-2973-4abc-c24f-f9b7ff01dacd"
      },
      "execution_count": 6,
      "outputs": [
        {
          "output_type": "stream",
          "name": "stdout",
          "text": [
            "Requirement already satisfied: imbalanced-learn in /usr/local/lib/python3.10/dist-packages (0.12.4)\n",
            "Requirement already satisfied: numpy>=1.17.3 in /usr/local/lib/python3.10/dist-packages (from imbalanced-learn) (1.26.4)\n",
            "Requirement already satisfied: scipy>=1.5.0 in /usr/local/lib/python3.10/dist-packages (from imbalanced-learn) (1.13.1)\n",
            "Requirement already satisfied: scikit-learn>=1.0.2 in /usr/local/lib/python3.10/dist-packages (from imbalanced-learn) (1.5.2)\n",
            "Requirement already satisfied: joblib>=1.1.1 in /usr/local/lib/python3.10/dist-packages (from imbalanced-learn) (1.4.2)\n",
            "Requirement already satisfied: threadpoolctl>=2.0.0 in /usr/local/lib/python3.10/dist-packages (from imbalanced-learn) (3.5.0)\n"
          ]
        }
      ]
    },
    {
      "cell_type": "markdown",
      "metadata": {
        "id": "8HaSJeIFhol4"
      },
      "source": [
        "# File Paths and Data Loading"
      ]
    },
    {
      "cell_type": "code",
      "execution_count": 7,
      "metadata": {
        "id": "8CwtjX2ihol5"
      },
      "outputs": [],
      "source": [
        "application_record_path = 'application_record.csv'\n",
        "credit_record_path = 'credit_record.csv'\n",
        "application_record = pd.read_csv(application_record_path)\n",
        "credit_record = pd.read_csv(credit_record_path)"
      ]
    },
    {
      "cell_type": "markdown",
      "source": [
        "# Data Inspection"
      ],
      "metadata": {
        "id": "jkoKxvdSjU9G"
      }
    },
    {
      "cell_type": "code",
      "source": [
        "application_record_info = application_record.info(), application_record.head()\n",
        "credit_record_info = credit_record.info(), credit_record.head()\n",
        "application_record.head(), credit_record.head()\n",
        "application_record_info, credit_record_info"
      ],
      "metadata": {
        "colab": {
          "base_uri": "https://localhost:8080/"
        },
        "id": "bFOxRjDyjNwL",
        "outputId": "4b4313f6-1a1c-4a0f-8186-1f23d395b216"
      },
      "execution_count": 8,
      "outputs": [
        {
          "output_type": "stream",
          "name": "stdout",
          "text": [
            "<class 'pandas.core.frame.DataFrame'>\n",
            "RangeIndex: 438557 entries, 0 to 438556\n",
            "Data columns (total 18 columns):\n",
            " #   Column               Non-Null Count   Dtype  \n",
            "---  ------               --------------   -----  \n",
            " 0   ID                   438557 non-null  int64  \n",
            " 1   CODE_GENDER          438557 non-null  object \n",
            " 2   FLAG_OWN_CAR         438557 non-null  object \n",
            " 3   FLAG_OWN_REALTY      438557 non-null  object \n",
            " 4   CNT_CHILDREN         438557 non-null  int64  \n",
            " 5   AMT_INCOME_TOTAL     438557 non-null  float64\n",
            " 6   NAME_INCOME_TYPE     438557 non-null  object \n",
            " 7   NAME_EDUCATION_TYPE  438557 non-null  object \n",
            " 8   NAME_FAMILY_STATUS   438557 non-null  object \n",
            " 9   NAME_HOUSING_TYPE    438557 non-null  object \n",
            " 10  DAYS_BIRTH           438557 non-null  int64  \n",
            " 11  DAYS_EMPLOYED        438557 non-null  int64  \n",
            " 12  FLAG_MOBIL           438557 non-null  int64  \n",
            " 13  FLAG_WORK_PHONE      438557 non-null  int64  \n",
            " 14  FLAG_PHONE           438557 non-null  int64  \n",
            " 15  FLAG_EMAIL           438557 non-null  int64  \n",
            " 16  OCCUPATION_TYPE      304354 non-null  object \n",
            " 17  CNT_FAM_MEMBERS      438557 non-null  float64\n",
            "dtypes: float64(2), int64(8), object(8)\n",
            "memory usage: 60.2+ MB\n",
            "<class 'pandas.core.frame.DataFrame'>\n",
            "RangeIndex: 1048575 entries, 0 to 1048574\n",
            "Data columns (total 3 columns):\n",
            " #   Column          Non-Null Count    Dtype \n",
            "---  ------          --------------    ----- \n",
            " 0   ID              1048575 non-null  int64 \n",
            " 1   MONTHS_BALANCE  1048575 non-null  int64 \n",
            " 2   STATUS          1048575 non-null  object\n",
            "dtypes: int64(2), object(1)\n",
            "memory usage: 24.0+ MB\n"
          ]
        },
        {
          "output_type": "execute_result",
          "data": {
            "text/plain": [
              "((None,\n",
              "          ID CODE_GENDER FLAG_OWN_CAR FLAG_OWN_REALTY  CNT_CHILDREN  \\\n",
              "  0  5008804           M            Y               Y             0   \n",
              "  1  5008805           M            Y               Y             0   \n",
              "  2  5008806           M            Y               Y             0   \n",
              "  3  5008808           F            N               Y             0   \n",
              "  4  5008809           F            N               Y             0   \n",
              "  \n",
              "     AMT_INCOME_TOTAL      NAME_INCOME_TYPE            NAME_EDUCATION_TYPE  \\\n",
              "  0          427500.0               Working               Higher education   \n",
              "  1          427500.0               Working               Higher education   \n",
              "  2          112500.0               Working  Secondary / secondary special   \n",
              "  3          270000.0  Commercial associate  Secondary / secondary special   \n",
              "  4          270000.0  Commercial associate  Secondary / secondary special   \n",
              "  \n",
              "       NAME_FAMILY_STATUS  NAME_HOUSING_TYPE  DAYS_BIRTH  DAYS_EMPLOYED  \\\n",
              "  0        Civil marriage   Rented apartment      -12005          -4542   \n",
              "  1        Civil marriage   Rented apartment      -12005          -4542   \n",
              "  2               Married  House / apartment      -21474          -1134   \n",
              "  3  Single / not married  House / apartment      -19110          -3051   \n",
              "  4  Single / not married  House / apartment      -19110          -3051   \n",
              "  \n",
              "     FLAG_MOBIL  FLAG_WORK_PHONE  FLAG_PHONE  FLAG_EMAIL OCCUPATION_TYPE  \\\n",
              "  0           1                1           0           0             NaN   \n",
              "  1           1                1           0           0             NaN   \n",
              "  2           1                0           0           0  Security staff   \n",
              "  3           1                0           1           1     Sales staff   \n",
              "  4           1                0           1           1     Sales staff   \n",
              "  \n",
              "     CNT_FAM_MEMBERS  \n",
              "  0              2.0  \n",
              "  1              2.0  \n",
              "  2              2.0  \n",
              "  3              1.0  \n",
              "  4              1.0  ),\n",
              " (None,\n",
              "          ID  MONTHS_BALANCE STATUS\n",
              "  0  5001711               0      X\n",
              "  1  5001711              -1      0\n",
              "  2  5001711              -2      0\n",
              "  3  5001711              -3      0\n",
              "  4  5001712               0      C))"
            ]
          },
          "metadata": {},
          "execution_count": 8
        }
      ]
    },
    {
      "cell_type": "markdown",
      "source": [
        "# Check for Null Values"
      ],
      "metadata": {
        "id": "-wMR573GkKX7"
      }
    },
    {
      "cell_type": "code",
      "source": [
        "# Calculate the number of missing values in each column\n",
        "application_nulls = application_record.isnull().sum()\n",
        "credit_nulls = credit_record.isnull().sum()"
      ],
      "metadata": {
        "id": "NKQgnYjSkNKf"
      },
      "execution_count": 9,
      "outputs": []
    },
    {
      "cell_type": "markdown",
      "source": [
        "# Re-check for Null Values"
      ],
      "metadata": {
        "id": "0qXP27svkvSm"
      }
    },
    {
      "cell_type": "code",
      "source": [
        "application_nulls = application_record.isnull().sum()\n",
        "credit_nulls = credit_record.isnull().sum()\n",
        "application_nulls, credit_nulls"
      ],
      "metadata": {
        "colab": {
          "base_uri": "https://localhost:8080/"
        },
        "id": "6NyQ_Vt8kwnk",
        "outputId": "1f8bf3e2-6341-48f6-ff49-a2a06f6f10bd"
      },
      "execution_count": 10,
      "outputs": [
        {
          "output_type": "execute_result",
          "data": {
            "text/plain": [
              "(ID                          0\n",
              " CODE_GENDER                 0\n",
              " FLAG_OWN_CAR                0\n",
              " FLAG_OWN_REALTY             0\n",
              " CNT_CHILDREN                0\n",
              " AMT_INCOME_TOTAL            0\n",
              " NAME_INCOME_TYPE            0\n",
              " NAME_EDUCATION_TYPE         0\n",
              " NAME_FAMILY_STATUS          0\n",
              " NAME_HOUSING_TYPE           0\n",
              " DAYS_BIRTH                  0\n",
              " DAYS_EMPLOYED               0\n",
              " FLAG_MOBIL                  0\n",
              " FLAG_WORK_PHONE             0\n",
              " FLAG_PHONE                  0\n",
              " FLAG_EMAIL                  0\n",
              " OCCUPATION_TYPE        134203\n",
              " CNT_FAM_MEMBERS             0\n",
              " dtype: int64,\n",
              " ID                0\n",
              " MONTHS_BALANCE    0\n",
              " STATUS            0\n",
              " dtype: int64)"
            ]
          },
          "metadata": {},
          "execution_count": 10
        }
      ]
    },
    {
      "cell_type": "markdown",
      "source": [
        "# Drop Irrelevant Column and Preview Data"
      ],
      "metadata": {
        "id": "Pb3qO56ykzOr"
      }
    },
    {
      "cell_type": "code",
      "execution_count": 11,
      "metadata": {
        "colab": {
          "base_uri": "https://localhost:8080/"
        },
        "id": "tsHgD-lwhol6",
        "outputId": "dec5c0ca-4cf8-4840-bf83-1c87169767f4"
      },
      "outputs": [
        {
          "output_type": "execute_result",
          "data": {
            "text/plain": [
              "(ID                     0\n",
              " CODE_GENDER            0\n",
              " FLAG_OWN_CAR           0\n",
              " FLAG_OWN_REALTY        0\n",
              " CNT_CHILDREN           0\n",
              " AMT_INCOME_TOTAL       0\n",
              " NAME_INCOME_TYPE       0\n",
              " NAME_EDUCATION_TYPE    0\n",
              " NAME_FAMILY_STATUS     0\n",
              " NAME_HOUSING_TYPE      0\n",
              " DAYS_BIRTH             0\n",
              " DAYS_EMPLOYED          0\n",
              " FLAG_MOBIL             0\n",
              " FLAG_WORK_PHONE        0\n",
              " FLAG_PHONE             0\n",
              " FLAG_EMAIL             0\n",
              " CNT_FAM_MEMBERS        0\n",
              " dtype: int64,\n",
              " ID                0\n",
              " MONTHS_BALANCE    0\n",
              " STATUS            0\n",
              " dtype: int64)"
            ]
          },
          "metadata": {},
          "execution_count": 11
        }
      ],
      "source": [
        "application_record = application_record.drop(['OCCUPATION_TYPE'], axis=1)\n",
        "application_nulls = application_record.isnull().sum()\n",
        "credit_nulls = credit_record.isnull().sum()\n",
        "application_nulls, credit_nulls"
      ]
    },
    {
      "cell_type": "markdown",
      "source": [
        "# Clean the application_record.csv Data"
      ],
      "metadata": {
        "id": "86ML5MscmQTg"
      }
    },
    {
      "cell_type": "markdown",
      "metadata": {
        "id": "2zROQf8zhol8"
      },
      "source": [
        "# Create Good/Bad Labels from credit_record.csv\n"
      ]
    },
    {
      "cell_type": "code",
      "execution_count": 12,
      "metadata": {
        "colab": {
          "base_uri": "https://localhost:8080/"
        },
        "id": "jTBiZnVBhol9",
        "outputId": "81892777-2d91-49ec-e47c-77ede21d996f"
      },
      "outputs": [
        {
          "output_type": "stream",
          "name": "stderr",
          "text": [
            "<ipython-input-12-b450de77a1c3>:7: DeprecationWarning: DataFrameGroupBy.apply operated on the grouping columns. This behavior is deprecated, and in a future version of pandas the grouping columns will be excluded from the operation. Either pass `include_groups=False` to exclude the groupings or explicitly select the grouping columns after groupby to silence this warning.\n",
            "  labels = credit_record.groupby('ID').apply(determine_label).reset_index(name='label')\n"
          ]
        }
      ],
      "source": [
        "def determine_label(group):\n",
        "    # Assign 'Bad' if any value in 'STATUS' is from the set ['1', '2', '3', '4', '5']\n",
        "    if any(group['STATUS'].isin(['1', '2', '3', '4', '5'])):\n",
        "        return 'Bad'\n",
        "    return 'Good'\n",
        "credit_record['STATUS'] = credit_record['STATUS'].astype(str)\n",
        "labels = credit_record.groupby('ID').apply(determine_label).reset_index(name='label')\n",
        "merged_data = application_record.merge(labels, on='ID', how='inner')"
      ]
    },
    {
      "cell_type": "markdown",
      "source": [
        "# Data Preprocessing"
      ],
      "metadata": {
        "id": "Bd4iAcj1miMM"
      }
    },
    {
      "cell_type": "code",
      "source": [
        "categorical_cols = ['CODE_GENDER', 'FLAG_OWN_CAR', 'FLAG_OWN_REALTY', 'NAME_INCOME_TYPE',\n",
        "                    'NAME_EDUCATION_TYPE', 'NAME_FAMILY_STATUS', 'NAME_HOUSING_TYPE']\n",
        "merged_data = pd.get_dummies(merged_data, columns=categorical_cols, drop_first=True)\n",
        "merged_data.drop(columns=['ID'], inplace=True)\n",
        "X = merged_data.drop(columns=['label'])\n",
        "y = merged_data['label']"
      ],
      "metadata": {
        "id": "B3iE9uF9mloP"
      },
      "execution_count": 13,
      "outputs": []
    },
    {
      "cell_type": "markdown",
      "source": [
        "# Balance the Data"
      ],
      "metadata": {
        "id": "0dA4YaormskV"
      }
    },
    {
      "cell_type": "code",
      "source": [
        "#Applying SMOTE\n",
        "X_balanced, Y_balanced = SMOTE().fit_resample(X, y)"
      ],
      "metadata": {
        "id": "Lhu975rhmwd-"
      },
      "execution_count": 14,
      "outputs": []
    },
    {
      "cell_type": "markdown",
      "source": [
        "# Encode Target Variable"
      ],
      "metadata": {
        "id": "IaKP0Wtkm5oZ"
      }
    },
    {
      "cell_type": "code",
      "source": [
        "from sklearn.preprocessing import LabelEncoder\n",
        "label_encoder = LabelEncoder()\n",
        "y = label_encoder.fit_transform(y)"
      ],
      "metadata": {
        "id": "4mQ1pS-zm8G8"
      },
      "execution_count": 15,
      "outputs": []
    },
    {
      "cell_type": "markdown",
      "source": [
        "# Standardize Numerical Features"
      ],
      "metadata": {
        "id": "uqKBofuxm_Rg"
      }
    },
    {
      "cell_type": "code",
      "source": [
        "from sklearn.preprocessing import StandardScaler\n",
        "scaler = StandardScaler()\n",
        "numerical_cols = X.select_dtypes(include=['int64', 'float64']).columns\n",
        "X[numerical_cols] = scaler.fit_transform(X[numerical_cols])\n",
        "X.head(), y[:5]"
      ],
      "metadata": {
        "colab": {
          "base_uri": "https://localhost:8080/"
        },
        "id": "cu3pyt6znKmC",
        "outputId": "e64ba162-0d4b-41ed-f8c8-02709cfaa3e3"
      },
      "execution_count": 16,
      "outputs": [
        {
          "output_type": "execute_result",
          "data": {
            "text/plain": [
              "(   CNT_CHILDREN  AMT_INCOME_TOTAL  DAYS_BIRTH  DAYS_EMPLOYED  FLAG_MOBIL  \\\n",
              " 0     -0.579661          2.365845    0.945169      -0.463532         0.0   \n",
              " 1     -0.579661          2.365845    0.945169      -0.463532         0.0   \n",
              " 2     -0.579661         -0.728827   -1.309091      -0.438774         0.0   \n",
              " 3     -0.579661          0.818509   -0.746300      -0.452700         0.0   \n",
              " 4     -0.579661          0.818509   -0.746300      -0.452700         0.0   \n",
              " \n",
              "    FLAG_WORK_PHONE  FLAG_PHONE  FLAG_EMAIL  CNT_FAM_MEMBERS  CODE_GENDER_M  \\\n",
              " 0         1.853127   -0.646578   -0.313952        -0.217680           True   \n",
              " 1         1.853127   -0.646578   -0.313952        -0.217680           True   \n",
              " 2        -0.539628   -0.646578   -0.313952        -0.217680           True   \n",
              " 3        -0.539628    1.546603    3.185203        -1.314564          False   \n",
              " 4        -0.539628    1.546603    3.185203        -1.314564          False   \n",
              " \n",
              "    ...  NAME_EDUCATION_TYPE_Secondary / secondary special  \\\n",
              " 0  ...                                              False   \n",
              " 1  ...                                              False   \n",
              " 2  ...                                               True   \n",
              " 3  ...                                               True   \n",
              " 4  ...                                               True   \n",
              " \n",
              "    NAME_FAMILY_STATUS_Married  NAME_FAMILY_STATUS_Separated  \\\n",
              " 0                       False                         False   \n",
              " 1                       False                         False   \n",
              " 2                        True                         False   \n",
              " 3                       False                         False   \n",
              " 4                       False                         False   \n",
              " \n",
              "    NAME_FAMILY_STATUS_Single / not married  NAME_FAMILY_STATUS_Widow  \\\n",
              " 0                                    False                     False   \n",
              " 1                                    False                     False   \n",
              " 2                                    False                     False   \n",
              " 3                                     True                     False   \n",
              " 4                                     True                     False   \n",
              " \n",
              "    NAME_HOUSING_TYPE_House / apartment  NAME_HOUSING_TYPE_Municipal apartment  \\\n",
              " 0                                False                                  False   \n",
              " 1                                False                                  False   \n",
              " 2                                 True                                  False   \n",
              " 3                                 True                                  False   \n",
              " 4                                 True                                  False   \n",
              " \n",
              "    NAME_HOUSING_TYPE_Office apartment  NAME_HOUSING_TYPE_Rented apartment  \\\n",
              " 0                               False                                True   \n",
              " 1                               False                                True   \n",
              " 2                               False                               False   \n",
              " 3                               False                               False   \n",
              " 4                               False                               False   \n",
              " \n",
              "    NAME_HOUSING_TYPE_With parents  \n",
              " 0                           False  \n",
              " 1                           False  \n",
              " 2                           False  \n",
              " 3                           False  \n",
              " 4                           False  \n",
              " \n",
              " [5 rows x 29 columns],\n",
              " array([0, 0, 1, 1, 1]))"
            ]
          },
          "metadata": {},
          "execution_count": 16
        }
      ]
    },
    {
      "cell_type": "markdown",
      "source": [
        "Print the Number of \"Good\" and \"Bad\" Labels Before Balancing\n"
      ],
      "metadata": {
        "id": "y1YBiBZhonZn"
      }
    },
    {
      "cell_type": "code",
      "source": [
        "print(\"Before Balancing:\")\n",
        "print(merged_data['label'].value_counts())"
      ],
      "metadata": {
        "colab": {
          "base_uri": "https://localhost:8080/"
        },
        "id": "vqeR05MPorTE",
        "outputId": "567cec16-309a-4aa7-dd64-e69dd26ccceb"
      },
      "execution_count": 17,
      "outputs": [
        {
          "output_type": "stream",
          "name": "stdout",
          "text": [
            "Before Balancing:\n",
            "label\n",
            "Good    32166\n",
            "Bad      4291\n",
            "Name: count, dtype: int64\n"
          ]
        }
      ]
    },
    {
      "cell_type": "markdown",
      "source": [
        "Print the Number of \"Good\" and \"Bad\" Labels After Balancing"
      ],
      "metadata": {
        "id": "D6MORfSMovkK"
      }
    },
    {
      "cell_type": "code",
      "execution_count": 18,
      "metadata": {
        "colab": {
          "base_uri": "https://localhost:8080/"
        },
        "id": "EBqBEM_Mhol9",
        "outputId": "07d97b7b-7ee3-4f9c-fb9d-e60679f6a4fa"
      },
      "outputs": [
        {
          "output_type": "stream",
          "name": "stdout",
          "text": [
            "After Balancing:\n",
            "label\n",
            "Bad     32166\n",
            "Good    32166\n",
            "Name: count, dtype: int64\n"
          ]
        }
      ],
      "source": [
        "print(\"After Balancing:\")\n",
        "print(pd.Series(Y_balanced).value_counts())"
      ]
    },
    {
      "cell_type": "markdown",
      "source": [
        "# Modeling"
      ],
      "metadata": {
        "id": "5R2_9Y2FpIkE"
      }
    },
    {
      "cell_type": "markdown",
      "source": [
        "Split the Data into Training and Test Sets"
      ],
      "metadata": {
        "id": "AFaAr5eipLgM"
      }
    },
    {
      "cell_type": "code",
      "source": [
        "X_train, X_test, y_train, y_test = train_test_split(X_balanced, Y_balanced, test_size=0.3, random_state=42, stratify=Y_balanced)"
      ],
      "metadata": {
        "id": "JIWKuhUmpIAh"
      },
      "execution_count": 19,
      "outputs": []
    },
    {
      "cell_type": "markdown",
      "source": [
        "Define Models for Evaluation"
      ],
      "metadata": {
        "id": "FmBbhtTYpPHX"
      }
    },
    {
      "cell_type": "code",
      "source": [
        "models = {\n",
        "    \"Logistic Regression\": LogisticRegression(),\n",
        "    \"SVM\": SVC(C=1.0, kernel='rbf', gamma='auto'),\n",
        "    \"Random Forest\": RandomForestClassifier()\n",
        "}"
      ],
      "metadata": {
        "id": "7XiS1h6gpRl0"
      },
      "execution_count": 20,
      "outputs": []
    },
    {
      "cell_type": "markdown",
      "source": [
        "Train and Evaluate the Models"
      ],
      "metadata": {
        "id": "jWWM-0SRpUXH"
      }
    },
    {
      "cell_type": "code",
      "source": [
        "classification_reports = []\n",
        "confusion_matrices = []\n",
        "for name, model in models.items():\n",
        "    model.fit(X_train, y_train)\n",
        "    y_pred = model.predict(X_test)\n",
        "    report = classification_report(y_test, y_pred)\n",
        "    cm = confusion_matrix(y_test, y_pred)\n",
        "    classification_reports.append(report)\n",
        "    confusion_matrices.append(cm)"
      ],
      "metadata": {
        "colab": {
          "base_uri": "https://localhost:8080/"
        },
        "id": "Hm2l1jawpWKo",
        "outputId": "0d6ca755-0a1f-4837-84f2-86c34966acc0"
      },
      "execution_count": 21,
      "outputs": [
        {
          "output_type": "stream",
          "name": "stderr",
          "text": [
            "/usr/local/lib/python3.10/dist-packages/sklearn/linear_model/_logistic.py:469: ConvergenceWarning: lbfgs failed to converge (status=1):\n",
            "STOP: TOTAL NO. of ITERATIONS REACHED LIMIT.\n",
            "\n",
            "Increase the number of iterations (max_iter) or scale the data as shown in:\n",
            "    https://scikit-learn.org/stable/modules/preprocessing.html\n",
            "Please also refer to the documentation for alternative solver options:\n",
            "    https://scikit-learn.org/stable/modules/linear_model.html#logistic-regression\n",
            "  n_iter_i = _check_optimize_result(\n"
          ]
        }
      ]
    },
    {
      "cell_type": "markdown",
      "source": [
        "Display Results for Each Model"
      ],
      "metadata": {
        "id": "Jg_T23oxpe-0"
      }
    },
    {
      "cell_type": "code",
      "source": [
        "for i in range(len(models)):\n",
        "    print(list(models.keys())[i])\n",
        "    print(classification_reports[i])\n",
        "    print(confusion_matrices[i])"
      ],
      "metadata": {
        "colab": {
          "base_uri": "https://localhost:8080/"
        },
        "id": "mjwtWih2pheX",
        "outputId": "32b20a38-6ae0-4caa-ee41-13b3ea199727"
      },
      "execution_count": 22,
      "outputs": [
        {
          "output_type": "stream",
          "name": "stdout",
          "text": [
            "Logistic Regression\n",
            "              precision    recall  f1-score   support\n",
            "\n",
            "         Bad       0.65      0.64      0.64      9650\n",
            "        Good       0.64      0.66      0.65      9650\n",
            "\n",
            "    accuracy                           0.65     19300\n",
            "   macro avg       0.65      0.65      0.65     19300\n",
            "weighted avg       0.65      0.65      0.65     19300\n",
            "\n",
            "[[6158 3492]\n",
            " [3307 6343]]\n",
            "SVM\n",
            "              precision    recall  f1-score   support\n",
            "\n",
            "         Bad       0.82      0.94      0.87      9650\n",
            "        Good       0.92      0.79      0.85      9650\n",
            "\n",
            "    accuracy                           0.86     19300\n",
            "   macro avg       0.87      0.86      0.86     19300\n",
            "weighted avg       0.87      0.86      0.86     19300\n",
            "\n",
            "[[9026  624]\n",
            " [2003 7647]]\n",
            "Random Forest\n",
            "              precision    recall  f1-score   support\n",
            "\n",
            "         Bad       0.91      0.91      0.91      9650\n",
            "        Good       0.91      0.92      0.91      9650\n",
            "\n",
            "    accuracy                           0.91     19300\n",
            "   macro avg       0.91      0.91      0.91     19300\n",
            "weighted avg       0.91      0.91      0.91     19300\n",
            "\n",
            "[[8818  832]\n",
            " [ 820 8830]]\n"
          ]
        }
      ]
    },
    {
      "cell_type": "markdown",
      "source": [
        " Normalize the Confusion Matrix"
      ],
      "metadata": {
        "id": "jaTA1CDnpute"
      }
    },
    {
      "cell_type": "code",
      "source": [
        "confusion_matrices[i] = confusion_matrices[i].astype('float') / confusion_matrices[i].sum(axis=1)[:, np.newaxis]"
      ],
      "metadata": {
        "id": "1oujNRk0ptYL"
      },
      "execution_count": 23,
      "outputs": []
    },
    {
      "cell_type": "markdown",
      "source": [
        "# **The chosen model is Random Forest**"
      ],
      "metadata": {
        "id": "B2zX3KjMtqoX"
      }
    },
    {
      "cell_type": "markdown",
      "metadata": {
        "id": "t9kOxA1shol-"
      },
      "source": [
        "# Hyperparameter Tuning\n"
      ]
    },
    {
      "cell_type": "markdown",
      "source": [
        "Define the Parameter Grid for Random Forest Hyperparameter Tuning"
      ],
      "metadata": {
        "id": "RFKVjtXdqPoi"
      }
    },
    {
      "cell_type": "code",
      "execution_count": 24,
      "metadata": {
        "id": "NW0jnhE5hol-"
      },
      "outputs": [],
      "source": [
        "param_grid = {\n",
        "    'n_estimators': [50, 100, 150],\n",
        "    'max_depth': [5, 10, 15],\n",
        "    'min_samples_split': [2, 5, 10],\n",
        "    'min_samples_leaf': [1, 2, 4]\n",
        "}"
      ]
    },
    {
      "cell_type": "markdown",
      "source": [
        "Initialize the Random Forest Classifier"
      ],
      "metadata": {
        "id": "sobjxsZ9qU6s"
      }
    },
    {
      "cell_type": "code",
      "source": [
        "rf = RandomForestClassifier()"
      ],
      "metadata": {
        "id": "c6b5EI1CqW-p"
      },
      "execution_count": 25,
      "outputs": []
    },
    {
      "cell_type": "markdown",
      "source": [
        "Set Up GridSearchCV with the Defined Parameters"
      ],
      "metadata": {
        "id": "pRHnH_3gqYo1"
      }
    },
    {
      "cell_type": "code",
      "source": [
        "grid_search = GridSearchCV(estimator=rf, param_grid=param_grid, cv=3, n_jobs=-1, verbose=2)"
      ],
      "metadata": {
        "id": "axM-8TJlqcGJ"
      },
      "execution_count": 26,
      "outputs": []
    },
    {
      "cell_type": "markdown",
      "source": [
        "Fit the Grid Search to the Training Data"
      ],
      "metadata": {
        "id": "R9apajf4qe27"
      }
    },
    {
      "cell_type": "code",
      "source": [
        "grid_search.fit(X_train, y_train)"
      ],
      "metadata": {
        "colab": {
          "base_uri": "https://localhost:8080/"
        },
        "id": "eS478sWPqgv_",
        "outputId": "e9fc5f75-a5b7-48b8-c01f-93cc7078ece4"
      },
      "execution_count": null,
      "outputs": [
        {
          "output_type": "stream",
          "name": "stdout",
          "text": [
            "Fitting 3 folds for each of 81 candidates, totalling 243 fits\n"
          ]
        }
      ]
    },
    {
      "cell_type": "markdown",
      "source": [
        "Output the Best Parameters and the Corresponding Score"
      ],
      "metadata": {
        "id": "-nOfJiO8qlcW"
      }
    },
    {
      "cell_type": "code",
      "source": [
        "print(grid_search.best_params_)\n",
        "print(grid_search.best_score_)"
      ],
      "metadata": {
        "id": "EG0UmOxYqmAO"
      },
      "execution_count": null,
      "outputs": []
    },
    {
      "cell_type": "markdown",
      "source": [
        "# Test the Model with the Best Parameters\n",
        "\n",
        "\n"
      ],
      "metadata": {
        "id": "rdQbEtg1qvjW"
      }
    },
    {
      "cell_type": "code",
      "source": [
        "best_rf = RandomForestClassifier(**grid_search.best_params_)\n"
      ],
      "metadata": {
        "id": "9prLVF-pqwbA"
      },
      "execution_count": null,
      "outputs": []
    },
    {
      "cell_type": "markdown",
      "source": [
        "# Train and Evaluate the Model"
      ],
      "metadata": {
        "id": "agTEs_BWqz-3"
      }
    },
    {
      "cell_type": "code",
      "execution_count": null,
      "metadata": {
        "id": "Ityr7WZrhol-"
      },
      "outputs": [],
      "source": [
        "best_rf.fit(X_train, y_train)\n",
        "y_pred = best_rf.predict(X_test)\n",
        "print(classification_report(y_test, y_pred))\n",
        "print(confusion_matrix(y_test, y_pred))"
      ]
    }
  ],
  "metadata": {
    "kernelspec": {
      "display_name": "Python 3",
      "language": "python",
      "name": "python3"
    },
    "language_info": {
      "codemirror_mode": {
        "name": "ipython",
        "version": 3
      },
      "file_extension": ".py",
      "mimetype": "text/x-python",
      "name": "python",
      "nbconvert_exporter": "python",
      "pygments_lexer": "ipython3",
      "version": "3.11.1"
    },
    "polyglot_notebook": {
      "kernelInfo": {
        "defaultKernelName": "csharp",
        "items": [
          {
            "aliases": [],
            "name": "csharp"
          }
        ]
      }
    },
    "colab": {
      "provenance": []
    }
  },
  "nbformat": 4,
  "nbformat_minor": 0
}